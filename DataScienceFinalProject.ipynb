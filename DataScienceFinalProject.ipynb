{
 "cells": [
  {
   "cell_type": "markdown",
   "id": "72f8a9e6-fd42-49bd-bf87-abc36d335b11",
   "metadata": {},
   "source": [
    "# Data Science Tools and Ecosystem"
   ]
  },
  {
   "cell_type": "markdown",
   "id": "7d940e38-1252-4bde-b9e3-4d0154ad9099",
   "metadata": {},
   "source": [
    "## Introduction\n",
    "This notebook provides an overview of the data science tools and ecosystem covered in this course. It includes a summary of data science languages, libraries, and tools, along with examples of arithmetic operations and time conversions. The objective is to demonstrate proficiency in using Jupyterlite Notebook for data science tasks."
   ]
  },
  {
   "cell_type": "markdown",
   "id": "f39bb028-36a1-4231-8294-c5aa94b3bc9b",
   "metadata": {},
   "source": [
    "## Data Science Languages\n",
    "The following are popular programming languages used in data science:\n",
    "- Python\n",
    "- R\n",
    "- SQL\n",
    "- Julia\n",
    "- Scala"
   ]
  },
  {
   "cell_type": "markdown",
   "id": "607e62d3-ffe7-41e1-ad94-c9ceffc53bdc",
   "metadata": {},
   "source": [
    "## Data Science Libraries\n",
    "Below are some widely used libraries for data science:\n",
    "- **Python Libraries**:\n",
    "  - NumPy\n",
    "  - Pandas\n",
    "  - Matplotlib\n",
    "  - Scikit-learn\n",
    "  - TensorFlow\n",
    "- **R Libraries**:\n",
    "  - ggplot2\n",
    "  - dplyr"
   ]
  },
  {
   "cell_type": "markdown",
   "id": "6b866bf7-0d45-4847-9bf7-39a8d13aec16",
   "metadata": {},
   "source": [
    "## Data Science Tools\n",
    "The table below lists open-source tools commonly used in data science:\n",
    "\n",
    "| Tool           | Description                              |\n",
    "|----------------|------------------------------------------|\n",
    "| Jupyter Notebook | Interactive computing environment       |\n",
    "| RStudio        | IDE for R programming                   |\n",
    "| Apache Spark   | Big data processing framework           |"
   ]
  },
  {
   "cell_type": "markdown",
   "id": "eb6c2b95-ed6c-4514-97e2-d51988ff442d",
   "metadata": {},
   "source": [
    "## Arithmetic Expression Examples\n",
    "In the following cells, we will demonstrate simple arithmetic operations such as multiplication and addition using Python code."
   ]
  },
  {
   "cell_type": "code",
   "execution_count": 2,
   "id": "8957f0b6-8adc-4672-8a75-29ed81193c4c",
   "metadata": {},
   "outputs": [
    {
     "name": "stdout",
     "output_type": "stream",
     "text": [
      "Multiplication: 5 * 3 = 15\n",
      "Addition: 5 + 3 = 8\n"
     ]
    }
   ],
   "source": [
    "# Multiply and add numbers\n",
    "a = 5\n",
    "b = 3\n",
    "multiplication = a * b\n",
    "addition = a + b\n",
    "print(f\"Multiplication: {a} * {b} = {multiplication}\")\n",
    "print(f\"Addition: {a} + {b} = {addition}\")"
   ]
  },
  {
   "cell_type": "code",
   "execution_count": 3,
   "id": "c94c2b8f-3890-4692-b94a-d40a87d5f3dd",
   "metadata": {},
   "outputs": [
    {
     "name": "stdout",
     "output_type": "stream",
     "text": [
      "120 minutes is equal to 2.0 hours\n"
     ]
    }
   ],
   "source": [
    "# Convert minutes to hours\n",
    "minutes = 120\n",
    "hours = minutes / 60\n",
    "print(f\"{minutes} minutes is equal to {hours} hours\")"
   ]
  },
  {
   "cell_type": "markdown",
   "id": "8e8c7420-82dc-41b7-9100-698dfa4fb2ad",
   "metadata": {},
   "source": [
    "## Objectives\n",
    "The objectives of this notebook are:\n",
    "- To summarize key data science languages and libraries.\n",
    "- To demonstrate the use of open-source data science tools.\n",
    "- To perform basic arithmetic operations and conversions using Python.\n",
    "- To create a shareable Jupyterlite Notebook via GitHub."
   ]
  },
  {
   "cell_type": "markdown",
   "id": "531b4ca5-23fc-4e14-a04e-87d0c29653f2",
   "metadata": {},
   "source": [
    "## Author\n",
    "[Zarif Khamdamov]"
   ]
  },
  {
   "cell_type": "code",
   "execution_count": null,
   "id": "8f81a1c3-039b-4019-bbff-583f585d41a0",
   "metadata": {},
   "outputs": [],
   "source": []
  },
  {
   "cell_type": "code",
   "execution_count": null,
   "id": "50eae0c2-95dd-4ced-ae8d-0a77432cd00a",
   "metadata": {},
   "outputs": [],
   "source": []
  },
  {
   "cell_type": "code",
   "execution_count": null,
   "id": "e93641f2-6d88-46a6-89f9-9c8277549b3c",
   "metadata": {},
   "outputs": [],
   "source": []
  }
 ],
 "metadata": {
  "kernelspec": {
   "display_name": "Python 3 (ipykernel)",
   "language": "python",
   "name": "python3"
  },
  "language_info": {
   "codemirror_mode": {
    "name": "ipython",
    "version": 3
   },
   "file_extension": ".py",
   "mimetype": "text/x-python",
   "name": "python",
   "nbconvert_exporter": "python",
   "pygments_lexer": "ipython3",
   "version": "3.13.2"
  }
 },
 "nbformat": 4,
 "nbformat_minor": 5
}
